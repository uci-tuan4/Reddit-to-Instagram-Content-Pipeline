{
  "nbformat": 4,
  "nbformat_minor": 0,
  "metadata": {
    "colab": {
      "provenance": [],
      "collapsed_sections": [
        "JHbpTqnlZwZe"
      ],
      "gpuType": "T4",
      "include_colab_link": true
    },
    "kernelspec": {
      "name": "python3",
      "display_name": "Python 3"
    },
    "language_info": {
      "name": "python"
    },
    "accelerator": "GPU",
    "widgets": {
      "application/vnd.jupyter.widget-state+json": {
        "42d9754d4cb148fda2b0ee5aeaf7de9c": {
          "model_module": "@jupyter-widgets/controls",
          "model_name": "DropdownModel",
          "model_module_version": "1.5.0",
          "state": {
            "_dom_classes": [],
            "_model_module": "@jupyter-widgets/controls",
            "_model_module_version": "1.5.0",
            "_model_name": "DropdownModel",
            "_options_labels": [
              "/content/Kill That Girl.mp3"
            ],
            "_view_count": null,
            "_view_module": "@jupyter-widgets/controls",
            "_view_module_version": "1.5.0",
            "_view_name": "DropdownView",
            "description": "",
            "description_tooltip": null,
            "disabled": false,
            "index": 0,
            "layout": "IPY_MODEL_23e4e11e36964a03a338761cde77d092",
            "style": "IPY_MODEL_3d90f10ba1854f89b7715b7d109349e7"
          }
        },
        "23e4e11e36964a03a338761cde77d092": {
          "model_module": "@jupyter-widgets/base",
          "model_name": "LayoutModel",
          "model_module_version": "1.2.0",
          "state": {
            "_model_module": "@jupyter-widgets/base",
            "_model_module_version": "1.2.0",
            "_model_name": "LayoutModel",
            "_view_count": null,
            "_view_module": "@jupyter-widgets/base",
            "_view_module_version": "1.2.0",
            "_view_name": "LayoutView",
            "align_content": null,
            "align_items": null,
            "align_self": null,
            "border": null,
            "bottom": null,
            "display": null,
            "flex": null,
            "flex_flow": null,
            "grid_area": null,
            "grid_auto_columns": null,
            "grid_auto_flow": null,
            "grid_auto_rows": null,
            "grid_column": null,
            "grid_gap": null,
            "grid_row": null,
            "grid_template_areas": null,
            "grid_template_columns": null,
            "grid_template_rows": null,
            "height": null,
            "justify_content": null,
            "justify_items": null,
            "left": null,
            "margin": null,
            "max_height": null,
            "max_width": null,
            "min_height": null,
            "min_width": null,
            "object_fit": null,
            "object_position": null,
            "order": null,
            "overflow": null,
            "overflow_x": null,
            "overflow_y": null,
            "padding": null,
            "right": null,
            "top": null,
            "visibility": null,
            "width": null
          }
        },
        "3d90f10ba1854f89b7715b7d109349e7": {
          "model_module": "@jupyter-widgets/controls",
          "model_name": "DescriptionStyleModel",
          "model_module_version": "1.5.0",
          "state": {
            "_model_module": "@jupyter-widgets/controls",
            "_model_module_version": "1.5.0",
            "_model_name": "DescriptionStyleModel",
            "_view_count": null,
            "_view_module": "@jupyter-widgets/base",
            "_view_module_version": "1.2.0",
            "_view_name": "StyleView",
            "description_width": ""
          }
        }
      }
    }
  },
  "cells": [
    {
      "cell_type": "markdown",
      "metadata": {
        "id": "view-in-github",
        "colab_type": "text"
      },
      "source": [
        "<a href=\"https://colab.research.google.com/github/uci-tuan4/Reddit-to-Instagram-Content-Pipeline/blob/main/osu_mapper_v2.ipynb\" target=\"_parent\"><img src=\"https://colab.research.google.com/assets/colab-badge.svg\" alt=\"Open In Colab\"/></a>"
      ]
    },
    {
      "cell_type": "markdown",
      "source": [
        "This generates playable OSU beatmaps from just an mp3 file.\n",
        "\n",
        "Credit goes to [OliBomby](https://github.com/OliBomby) for the osuT5 code and the pre-trained diffusion model.\n",
        "\n",
        "**Instructions:**\n",
        "\n",
        "1. Make sure you are using a GPU runtime type.\n",
        "2. Run the \"Setup\" cell and wait for it to finish.\n",
        "3. Upload an mp3 file using the file manager on the left side bar.\n",
        "4. Run the \"Fetch audio files\" cell and select the file from the list.\n",
        "5. Change the configuration settings as you like, then run the \"Setup configuration\" cell.\n",
        "6. Run the \"Generate\" cell and wait for a few minutes.\n",
        "7. After it's done, you will need to refresh the file manager by clicking on the refresh arrow icon. You will then see the .osz file; right-click on it to download."
      ],
      "metadata": {
        "id": "oYNpZYIzRCDi"
      }
    },
    {
      "cell_type": "code",
      "source": [
        "from google.colab import drive\n",
        "drive.mount('/content/drive')"
      ],
      "metadata": {
        "id": "lzY6oUrIs7So"
      },
      "execution_count": null,
      "outputs": []
    },
    {
      "cell_type": "code",
      "execution_count": 5,
      "metadata": {
        "id": "5ZxQd4qTF4dH",
        "outputId": "06573601-d8f6-4442-bfeb-ce2663a145c5",
        "colab": {
          "base_uri": "https://localhost:8080/"
        }
      },
      "outputs": [
        {
          "output_type": "stream",
          "name": "stdout",
          "text": [
            "Updated git hooks.\n",
            "Git LFS initialized.\n",
            "Cloning into 'osu_mapper'...\n",
            "remote: Enumerating objects: 201, done.\u001b[K\n",
            "remote: Total 201 (delta 0), reused 0 (delta 0), pack-reused 201 (from 1)\u001b[K\n",
            "Receiving objects: 100% (201/201), 335.99 KiB | 19.76 MiB/s, done.\n",
            "Resolving deltas: 100% (41/41), done.\n",
            "Filtering content: 100% (4/4), 2.89 GiB | 55.61 MiB/s, done.\n",
            "/content/osu_mapper\n",
            "Requirement already satisfied: accelerate in /usr/local/lib/python3.11/dist-packages (from -r requirements.txt (line 1)) (1.5.2)\n",
            "Requirement already satisfied: pydub in /usr/local/lib/python3.11/dist-packages (from -r requirements.txt (line 2)) (0.25.1)\n",
            "Requirement already satisfied: nnAudio in /usr/local/lib/python3.11/dist-packages (from -r requirements.txt (line 3)) (0.3.3)\n",
            "Requirement already satisfied: PyYAML in /usr/local/lib/python3.11/dist-packages (from -r requirements.txt (line 4)) (6.0.2)\n",
            "Requirement already satisfied: transformers in /usr/local/lib/python3.11/dist-packages (from -r requirements.txt (line 5)) (4.50.3)\n",
            "Requirement already satisfied: tensorboard in /usr/local/lib/python3.11/dist-packages (from -r requirements.txt (line 6)) (2.18.0)\n",
            "Requirement already satisfied: slider==0.8.1 in /usr/local/lib/python3.11/dist-packages (from -r requirements.txt (line 7)) (0.8.1)\n",
            "Requirement already satisfied: torch_tb_profiler in /usr/local/lib/python3.11/dist-packages (from -r requirements.txt (line 8)) (0.4.3)\n",
            "Requirement already satisfied: hydra-core in /usr/local/lib/python3.11/dist-packages (from -r requirements.txt (line 9)) (1.3.2)\n",
            "Requirement already satisfied: numpy in /usr/local/lib/python3.11/dist-packages (from slider==0.8.1->-r requirements.txt (line 7)) (2.0.2)\n",
            "Requirement already satisfied: requests in /usr/local/lib/python3.11/dist-packages (from slider==0.8.1->-r requirements.txt (line 7)) (2.32.3)\n",
            "Requirement already satisfied: scipy in /usr/local/lib/python3.11/dist-packages (from slider==0.8.1->-r requirements.txt (line 7)) (1.14.1)\n",
            "Requirement already satisfied: packaging>=20.0 in /usr/local/lib/python3.11/dist-packages (from accelerate->-r requirements.txt (line 1)) (24.2)\n",
            "Requirement already satisfied: psutil in /usr/local/lib/python3.11/dist-packages (from accelerate->-r requirements.txt (line 1)) (5.9.5)\n",
            "Requirement already satisfied: torch>=2.0.0 in /usr/local/lib/python3.11/dist-packages (from accelerate->-r requirements.txt (line 1)) (2.6.0+cu124)\n",
            "Requirement already satisfied: huggingface-hub>=0.21.0 in /usr/local/lib/python3.11/dist-packages (from accelerate->-r requirements.txt (line 1)) (0.30.1)\n",
            "Requirement already satisfied: safetensors>=0.4.3 in /usr/local/lib/python3.11/dist-packages (from accelerate->-r requirements.txt (line 1)) (0.5.3)\n",
            "Requirement already satisfied: filelock in /usr/local/lib/python3.11/dist-packages (from transformers->-r requirements.txt (line 5)) (3.18.0)\n",
            "Requirement already satisfied: regex!=2019.12.17 in /usr/local/lib/python3.11/dist-packages (from transformers->-r requirements.txt (line 5)) (2024.11.6)\n",
            "Requirement already satisfied: tokenizers<0.22,>=0.21 in /usr/local/lib/python3.11/dist-packages (from transformers->-r requirements.txt (line 5)) (0.21.1)\n",
            "Requirement already satisfied: tqdm>=4.27 in /usr/local/lib/python3.11/dist-packages (from transformers->-r requirements.txt (line 5)) (4.67.1)\n",
            "Requirement already satisfied: absl-py>=0.4 in /usr/local/lib/python3.11/dist-packages (from tensorboard->-r requirements.txt (line 6)) (1.4.0)\n",
            "Requirement already satisfied: grpcio>=1.48.2 in /usr/local/lib/python3.11/dist-packages (from tensorboard->-r requirements.txt (line 6)) (1.71.0)\n",
            "Requirement already satisfied: markdown>=2.6.8 in /usr/local/lib/python3.11/dist-packages (from tensorboard->-r requirements.txt (line 6)) (3.7)\n",
            "Requirement already satisfied: protobuf!=4.24.0,>=3.19.6 in /usr/local/lib/python3.11/dist-packages (from tensorboard->-r requirements.txt (line 6)) (5.29.4)\n",
            "Requirement already satisfied: setuptools>=41.0.0 in /usr/local/lib/python3.11/dist-packages (from tensorboard->-r requirements.txt (line 6)) (75.2.0)\n",
            "Requirement already satisfied: six>1.9 in /usr/local/lib/python3.11/dist-packages (from tensorboard->-r requirements.txt (line 6)) (1.17.0)\n",
            "Requirement already satisfied: tensorboard-data-server<0.8.0,>=0.7.0 in /usr/local/lib/python3.11/dist-packages (from tensorboard->-r requirements.txt (line 6)) (0.7.2)\n",
            "Requirement already satisfied: werkzeug>=1.0.1 in /usr/local/lib/python3.11/dist-packages (from tensorboard->-r requirements.txt (line 6)) (3.1.3)\n",
            "Requirement already satisfied: pandas>=1.0.0 in /usr/local/lib/python3.11/dist-packages (from torch_tb_profiler->-r requirements.txt (line 8)) (2.2.2)\n",
            "Requirement already satisfied: omegaconf<2.4,>=2.2 in /usr/local/lib/python3.11/dist-packages (from hydra-core->-r requirements.txt (line 9)) (2.3.0)\n",
            "Requirement already satisfied: antlr4-python3-runtime==4.9.* in /usr/local/lib/python3.11/dist-packages (from hydra-core->-r requirements.txt (line 9)) (4.9.3)\n",
            "Requirement already satisfied: fsspec>=2023.5.0 in /usr/local/lib/python3.11/dist-packages (from huggingface-hub>=0.21.0->accelerate->-r requirements.txt (line 1)) (2025.3.2)\n",
            "Requirement already satisfied: typing-extensions>=3.7.4.3 in /usr/local/lib/python3.11/dist-packages (from huggingface-hub>=0.21.0->accelerate->-r requirements.txt (line 1)) (4.13.1)\n",
            "Requirement already satisfied: python-dateutil>=2.8.2 in /usr/local/lib/python3.11/dist-packages (from pandas>=1.0.0->torch_tb_profiler->-r requirements.txt (line 8)) (2.8.2)\n",
            "Requirement already satisfied: pytz>=2020.1 in /usr/local/lib/python3.11/dist-packages (from pandas>=1.0.0->torch_tb_profiler->-r requirements.txt (line 8)) (2025.2)\n",
            "Requirement already satisfied: tzdata>=2022.7 in /usr/local/lib/python3.11/dist-packages (from pandas>=1.0.0->torch_tb_profiler->-r requirements.txt (line 8)) (2025.2)\n",
            "Requirement already satisfied: networkx in /usr/local/lib/python3.11/dist-packages (from torch>=2.0.0->accelerate->-r requirements.txt (line 1)) (3.4.2)\n",
            "Requirement already satisfied: jinja2 in /usr/local/lib/python3.11/dist-packages (from torch>=2.0.0->accelerate->-r requirements.txt (line 1)) (3.1.6)\n",
            "Requirement already satisfied: nvidia-cuda-nvrtc-cu12==12.4.127 in /usr/local/lib/python3.11/dist-packages (from torch>=2.0.0->accelerate->-r requirements.txt (line 1)) (12.4.127)\n",
            "Requirement already satisfied: nvidia-cuda-runtime-cu12==12.4.127 in /usr/local/lib/python3.11/dist-packages (from torch>=2.0.0->accelerate->-r requirements.txt (line 1)) (12.4.127)\n",
            "Requirement already satisfied: nvidia-cuda-cupti-cu12==12.4.127 in /usr/local/lib/python3.11/dist-packages (from torch>=2.0.0->accelerate->-r requirements.txt (line 1)) (12.4.127)\n",
            "Requirement already satisfied: nvidia-cudnn-cu12==9.1.0.70 in /usr/local/lib/python3.11/dist-packages (from torch>=2.0.0->accelerate->-r requirements.txt (line 1)) (9.1.0.70)\n",
            "Requirement already satisfied: nvidia-cublas-cu12==12.4.5.8 in /usr/local/lib/python3.11/dist-packages (from torch>=2.0.0->accelerate->-r requirements.txt (line 1)) (12.4.5.8)\n",
            "Requirement already satisfied: nvidia-cufft-cu12==11.2.1.3 in /usr/local/lib/python3.11/dist-packages (from torch>=2.0.0->accelerate->-r requirements.txt (line 1)) (11.2.1.3)\n",
            "Requirement already satisfied: nvidia-curand-cu12==10.3.5.147 in /usr/local/lib/python3.11/dist-packages (from torch>=2.0.0->accelerate->-r requirements.txt (line 1)) (10.3.5.147)\n",
            "Requirement already satisfied: nvidia-cusolver-cu12==11.6.1.9 in /usr/local/lib/python3.11/dist-packages (from torch>=2.0.0->accelerate->-r requirements.txt (line 1)) (11.6.1.9)\n",
            "Requirement already satisfied: nvidia-cusparse-cu12==12.3.1.170 in /usr/local/lib/python3.11/dist-packages (from torch>=2.0.0->accelerate->-r requirements.txt (line 1)) (12.3.1.170)\n",
            "Requirement already satisfied: nvidia-cusparselt-cu12==0.6.2 in /usr/local/lib/python3.11/dist-packages (from torch>=2.0.0->accelerate->-r requirements.txt (line 1)) (0.6.2)\n",
            "Requirement already satisfied: nvidia-nccl-cu12==2.21.5 in /usr/local/lib/python3.11/dist-packages (from torch>=2.0.0->accelerate->-r requirements.txt (line 1)) (2.21.5)\n",
            "Requirement already satisfied: nvidia-nvtx-cu12==12.4.127 in /usr/local/lib/python3.11/dist-packages (from torch>=2.0.0->accelerate->-r requirements.txt (line 1)) (12.4.127)\n",
            "Requirement already satisfied: nvidia-nvjitlink-cu12==12.4.127 in /usr/local/lib/python3.11/dist-packages (from torch>=2.0.0->accelerate->-r requirements.txt (line 1)) (12.4.127)\n",
            "Requirement already satisfied: triton==3.2.0 in /usr/local/lib/python3.11/dist-packages (from torch>=2.0.0->accelerate->-r requirements.txt (line 1)) (3.2.0)\n",
            "Requirement already satisfied: sympy==1.13.1 in /usr/local/lib/python3.11/dist-packages (from torch>=2.0.0->accelerate->-r requirements.txt (line 1)) (1.13.1)\n",
            "Requirement already satisfied: mpmath<1.4,>=1.1.0 in /usr/local/lib/python3.11/dist-packages (from sympy==1.13.1->torch>=2.0.0->accelerate->-r requirements.txt (line 1)) (1.3.0)\n",
            "Requirement already satisfied: MarkupSafe>=2.1.1 in /usr/local/lib/python3.11/dist-packages (from werkzeug>=1.0.1->tensorboard->-r requirements.txt (line 6)) (3.0.2)\n",
            "Requirement already satisfied: charset-normalizer<4,>=2 in /usr/local/lib/python3.11/dist-packages (from requests->slider==0.8.1->-r requirements.txt (line 7)) (3.4.1)\n",
            "Requirement already satisfied: idna<4,>=2.5 in /usr/local/lib/python3.11/dist-packages (from requests->slider==0.8.1->-r requirements.txt (line 7)) (3.10)\n",
            "Requirement already satisfied: urllib3<3,>=1.21.1 in /usr/local/lib/python3.11/dist-packages (from requests->slider==0.8.1->-r requirements.txt (line 7)) (2.3.0)\n",
            "Requirement already satisfied: certifi>=2017.4.17 in /usr/local/lib/python3.11/dist-packages (from requests->slider==0.8.1->-r requirements.txt (line 7)) (2025.1.31)\n"
          ]
        }
      ],
      "source": [
        "#@title Setup environment\n",
        "#@markdown Setup\n",
        "!git lfs install\n",
        "!git clone https://huggingface.co/Tiger14n/osu_mapper\n",
        "%cd /content/osu_mapper\n",
        "!pip install -r requirements.txt"
      ]
    },
    {
      "cell_type": "code",
      "source": [
        "#@title Fetch audio files\n",
        "import os\n",
        "import mimetypes\n",
        "import ipywidgets as widgets\n",
        "from IPython.display import display\n",
        "\n",
        "def find_audio_files(directory):\n",
        "    audio_files = []\n",
        "\n",
        "    # Ensure mimetype database is initialized\n",
        "    mimetypes.init()\n",
        "\n",
        "    # Walk through the directory\n",
        "    for root, dirs, files in os.walk(directory):\n",
        "        for file in files:\n",
        "            # Get the full file path\n",
        "            file_path = os.path.join(root, file)\n",
        "\n",
        "            # Get the MIME type of the file\n",
        "            mime_type, _ = mimetypes.guess_type(file_path)\n",
        "\n",
        "            # Check if it's an audio file\n",
        "            if mime_type and mime_type.startswith('audio'):\n",
        "                audio_files.append(file_path)\n",
        "    if len(audio_files) == 0:\n",
        "        print(\"No audio files found, Please upload an audio file using file manager on the left side of the page\")\n",
        "\n",
        "    return audio_files\n",
        "\n",
        "# Example usage\n",
        "directory_path = '/content'\n",
        "audio_file_list = find_audio_files(directory_path)\n",
        "\n",
        "if audio_file_list:\n",
        "  audio_file = widgets.Dropdown(options=audio_file_list, value=audio_file_list[0])\n",
        "  print(\"Select an audio file from the list:\")\n",
        "  display(audio_file)"
      ],
      "metadata": {
        "id": "sYEX9ScPsEtY",
        "outputId": "4b94b473-8b5f-4348-e89b-192173ae276d",
        "colab": {
          "base_uri": "https://localhost:8080/",
          "height": 66,
          "referenced_widgets": [
            "42d9754d4cb148fda2b0ee5aeaf7de9c",
            "23e4e11e36964a03a338761cde77d092",
            "3d90f10ba1854f89b7715b7d109349e7"
          ]
        }
      },
      "execution_count": 6,
      "outputs": [
        {
          "output_type": "stream",
          "name": "stdout",
          "text": [
            "Select an audio file from the list:\n"
          ]
        },
        {
          "output_type": "display_data",
          "data": {
            "text/plain": [
              "Dropdown(options=('/content/Kill That Girl.mp3',), value='/content/Kill That Girl.mp3')"
            ],
            "application/vnd.jupyter.widget-view+json": {
              "version_major": 2,
              "version_minor": 0,
              "model_id": "42d9754d4cb148fda2b0ee5aeaf7de9c"
            }
          },
          "metadata": {}
        }
      ]
    },
    {
      "cell_type": "markdown",
      "source": [
        "# Generate one beatmap\n",
        "\n"
      ],
      "metadata": {
        "id": "J1mfUienEW-o"
      }
    },
    {
      "cell_type": "code",
      "source": [
        "%cd /content/osu_mapper\n",
        "#@title Setup configuration\n",
        "\n",
        "# @markdown Target difficulty: (The model can only generate 3* to 7*):\n",
        "target_difficulty = 6 # @param {type:\"number\"}\n",
        "# @markdown  Info:\n",
        "#@title Configuration\n",
        "song_title = \"Kill That Girl\" # @param {type:\"string\"}\n",
        "song_artist = \"Maximum Utility\" # @param {type:\"string\"}\n",
        "map_creator = \"OSU Anonymous\" # @param {type:\"string\"}\n",
        "# @markdown BPM of the selcted song (Optional)\n",
        "bpm = 93 # @param {type:\"number\"}\n",
        "# @markdown The offset to first beat in milliseconds (Optional)\n",
        "offset = 0 # @param {type:\"number\"}\n",
        "# @markdown resnap hit-objects is recomeneded but requries accurate BPM and offset for songs with consistent BPM, it's expermintal and doesn't always work (Optional)\n",
        "resnap_hitobjects = False  # @param {type:\"boolean\"}\n",
        "#  @markdown #Diffusion settings:\n",
        "style = \"Sotarks\" #@param[\"None\", \"Cheri\", \"Monstrata\", \"Sotarks\", \"wafer\", \"Nevo\", \"ScubDomino\", \"Night Mare\"]\n",
        "\n",
        "num_sampling_steps = \"250\" #@param[100,250,500,1000]\n",
        "\n",
        "style_to_id = {\n",
        "    \"None\": None,\n",
        "    \"Cheri\": 2592760,\n",
        "    \"Monstrata\": 1451282,\n",
        "    \"Sotarks\": 1995061,\n",
        "    \"wafer\": 3697057,\n",
        "    \"Nevo\": 2799753,\n",
        "    \"ScubDomino\": 1772923,\n",
        "    \"Night Mare\": 1907310,\n",
        "}\n",
        "\n",
        "\n",
        "style_id = style_to_id[style]\n",
        "\n",
        "\n",
        "full_set = False\n",
        "\n",
        "# update the config file\n",
        "import yaml\n",
        "# Load the existing YAML file\n",
        "with open('configs/inference.yaml', 'r') as file:\n",
        "    config = yaml.safe_load(file)\n",
        "\n",
        "\n",
        "# Update the configuration values\n",
        "config['audio_path'] = audio_file.value\n",
        "config['title'] = song_title\n",
        "config['artist'] = song_artist\n",
        "config['creator'] = map_creator\n",
        "config['bpm'] = bpm\n",
        "config['offset'] = offset\n",
        "config['full_set'] = full_set\n",
        "config['snap_hitobjects'] = resnap_hitobjects\n",
        "config['difficulty'] = target_difficulty\n",
        "config['diffusion']['style_id'] = style_id\n",
        "config['diffusion']['num_sampling_steps'] = num_sampling_steps\n",
        "config['output_path'] = '/content'\n",
        "\n",
        "\n",
        "# Save the updated configuration back to the YAML file\n",
        "with open('configs/inference.yaml', 'w') as file:\n",
        "    yaml.dump(config, file)\n",
        "\n",
        "\n",
        "print(\"Configuration updated successfully!, Run the generate cell\")"
      ],
      "metadata": {
        "id": "hHwaUbThEr2j"
      },
      "execution_count": null,
      "outputs": []
    },
    {
      "cell_type": "code",
      "source": [
        "#@title Generate\n",
        "!python3 inference.py"
      ],
      "metadata": {
        "id": "DLYzzu80MTNM",
        "outputId": "56cf0620-1a1a-4e81-a7c6-9cb6915b82a3",
        "colab": {
          "base_uri": "https://localhost:8080/"
        }
      },
      "execution_count": 9,
      "outputs": [
        {
          "output_type": "stream",
          "name": "stdout",
          "text": [
            "2025-04-14 00:41:56.212292: E external/local_xla/xla/stream_executor/cuda/cuda_fft.cc:477] Unable to register cuFFT factory: Attempting to register factory for plugin cuFFT when one has already been registered\n",
            "WARNING: All log messages before absl::InitializeLog() is called are written to STDERR\n",
            "E0000 00:00:1744591316.235385    5058 cuda_dnn.cc:8310] Unable to register cuDNN factory: Attempting to register factory for plugin cuDNN when one has already been registered\n",
            "E0000 00:00:1744591316.243652    5058 cuda_blas.cc:1418] Unable to register cuBLAS factory: Attempting to register factory for plugin cuBLAS when one has already been registered\n",
            "2025-04-14 00:41:56.264929: I tensorflow/core/platform/cpu_feature_guard.cc:210] This TensorFlow binary is optimized to use available CPU instructions in performance-critical operations.\n",
            "To enable the following instructions: AVX2 AVX512F FMA, in other operations, rebuild TensorFlow with the appropriate compiler flags.\n",
            "Error executing job with overrides: []\n",
            "Traceback (most recent call last):\n",
            "  File \"/content/osu_mapper/inference.py\", line 59, in main\n",
            "    tokenizer_state = torch.load(ckpt_path / \"custom_checkpoint_0.pkl\")\n",
            "                      ^^^^^^^^^^^^^^^^^^^^^^^^^^^^^^^^^^^^^^^^^^^^^^^^^\n",
            "  File \"/usr/local/lib/python3.11/dist-packages/torch/serialization.py\", line 1470, in load\n",
            "    raise pickle.UnpicklingError(_get_wo_message(str(e))) from None\n",
            "_pickle.UnpicklingError: Weights only load failed. This file can still be loaded, to do so you have two options, \u001b[1mdo those steps only if you trust the source of the checkpoint\u001b[0m. \n",
            "\t(1) In PyTorch 2.6, we changed the default value of the `weights_only` argument in `torch.load` from `False` to `True`. Re-running `torch.load` with `weights_only` set to `False` will likely succeed, but it can result in arbitrary code execution. Do it only if you got the file from a trusted source.\n",
            "\t(2) Alternatively, to load with `weights_only=True` please check the recommended steps in the following error message.\n",
            "\tWeightsUnpickler error: Unsupported global: GLOBAL osuT5.tokenizer.event.EventRange was not an allowed global by default. Please use `torch.serialization.add_safe_globals([EventRange])` or the `torch.serialization.safe_globals([EventRange])` context manager to allowlist this global if you trust this class/function.\n",
            "\n",
            "Check the documentation of torch.load to learn more about types accepted by default with weights_only https://pytorch.org/docs/stable/generated/torch.load.html.\n",
            "\n",
            "Set the environment variable HYDRA_FULL_ERROR=1 for a complete stack trace.\n"
          ]
        }
      ]
    },
    {
      "cell_type": "markdown",
      "source": [
        "# Generate a full mapset (Optional)"
      ],
      "metadata": {
        "id": "JHbpTqnlZwZe"
      }
    },
    {
      "cell_type": "code",
      "source": [
        "%cd /content/osu_mapper\n",
        "#@title Setup configuration\n",
        "\n",
        "# @markdown **This generates a full mapset of 5 beatmaps ranging from 3 to 7 stars, this can take up to 15 minutes**\n",
        "\n",
        "# @markdown  Info:\n",
        "#@title Configuration\n",
        "song_title = \"OSU\" # @param {type:\"string\"}\n",
        "song_artist = \"OSU Mapper\" # @param {type:\"string\"}\n",
        "map_creator = \"OSU Mapper\" # @param {type:\"string\"}\n",
        "# @markdown BPM of the selcted song (Optional)\n",
        "bpm = 120 # @param {type:\"number\"}\n",
        "# @markdown The offset to first beat in milliseconds (Optional)\n",
        "offset = 0 # @param {type:\"number\"}\n",
        "# @markdown resnap hit-objects is recomeneded but requries accurate BPM and offset for songs with consistent BPM, it's expermintal and doesn't always work (Optional)\n",
        "resnap_hitobjects = False  # @param {type:\"boolean\"}\n",
        "#  @markdown #Diffusion settings:\n",
        "style = \"Monstrata\" #@param[\"None\", \"Cheri\", \"Monstrata\", \"Sotarks\", \"wafer\", \"Nevo\", \"ScubDomino\", \"Night Mare\"]\n",
        "\n",
        "num_sampling_steps = \"100\" #@param[100,250,500,1000]\n",
        "\n",
        "style_to_id = {\n",
        "    \"None\": None,\n",
        "    \"Cheri\": 2592760,\n",
        "    \"Monstrata\": 1451282,\n",
        "    \"Sotarks\": 1995061,\n",
        "    \"wafer\": 3697057,\n",
        "    \"Nevo\": 2799753,\n",
        "    \"ScubDomino\": 1772923,\n",
        "    \"Night Mare\": 1907310,\n",
        "}\n",
        "\n",
        "\n",
        "style_id = style_to_id[style]\n",
        "\n",
        "\n",
        "full_set = True\n",
        "\n",
        "# update the config file\n",
        "import yaml\n",
        "# Load the existing YAML file\n",
        "with open('configs/inference.yaml', 'r') as file:\n",
        "    config = yaml.safe_load(file)\n",
        "\n",
        "\n",
        "# Update the configuration values\n",
        "config['audio_path'] = audio_file.value\n",
        "config['title'] = song_title\n",
        "config['artist'] = song_artist\n",
        "config['creator'] = map_creator\n",
        "config['bpm'] = bpm\n",
        "config['offset'] = offset\n",
        "config['full_set'] = full_set\n",
        "config['snap_hitobjects'] = resnap_hitobjects\n",
        "config['diffusion']['style_id'] = style_id\n",
        "config['diffusion']['num_sampling_steps'] = num_sampling_steps\n",
        "config['output_path'] = '/content'\n",
        "\n",
        "\n",
        "# Save the updated configuration back to the YAML file\n",
        "with open('configs/inference.yaml', 'w') as file:\n",
        "    yaml.dump(config, file)\n",
        "\n",
        "\n",
        "print(\"Configuration updated successfully!, Run the generate cell\")"
      ],
      "metadata": {
        "cellView": "form",
        "id": "4-EnEqEUzSVH",
        "outputId": "8bb03ed8-21fc-47af-8a29-7fc6200190d9",
        "colab": {
          "base_uri": "https://localhost:8080/"
        }
      },
      "execution_count": 3,
      "outputs": [
        {
          "output_type": "stream",
          "name": "stdout",
          "text": [
            "/content/osu_mapper\n",
            "Configuration updated successfully!, Run the generate cell\n"
          ]
        }
      ]
    },
    {
      "cell_type": "code",
      "source": [
        "#@title Generate\n",
        "!python3 inference.py"
      ],
      "metadata": {
        "id": "tz24ZYIoZ1Dy",
        "cellView": "form",
        "outputId": "53b606ae-3d19-4674-ec97-5901d7548b14",
        "colab": {
          "base_uri": "https://localhost:8080/"
        }
      },
      "execution_count": 4,
      "outputs": [
        {
          "output_type": "stream",
          "name": "stdout",
          "text": [
            "Traceback (most recent call last):\n",
            "  File \"/content/osu_mapper/inference.py\", line 9, in <module>\n",
            "    from osuT5.inference import Preprocessor, Pipeline, Postprocessor, DiffisionPipeline\n",
            "  File \"/content/osu_mapper/osuT5/inference/__init__.py\", line 1, in <module>\n",
            "    from .pipeline import *\n",
            "  File \"/content/osu_mapper/osuT5/inference/pipeline.py\", line 15, in <module>\n",
            "    from osuT5.model import OsuT\n",
            "  File \"/content/osu_mapper/osuT5/model/__init__.py\", line 1, in <module>\n",
            "    from .osu_t import OsuT\n",
            "  File \"/content/osu_mapper/osuT5/model/osu_t.py\", line 8, in <module>\n",
            "    from transformers import T5Config, T5ForConditionalGeneration, WhisperForConditionalGeneration, WhisperConfig\n",
            "  File \"<frozen importlib._bootstrap>\", line 1229, in _handle_fromlist\n",
            "  File \"/usr/local/lib/python3.11/dist-packages/transformers/utils/import_utils.py\", line 1965, in __getattr__\n",
            "    value = getattr(module, name)\n",
            "            ^^^^^^^^^^^^^^^^^^^^^\n",
            "  File \"/usr/local/lib/python3.11/dist-packages/transformers/utils/import_utils.py\", line 1964, in __getattr__\n",
            "    module = self._get_module(self._class_to_module[name])\n",
            "             ^^^^^^^^^^^^^^^^^^^^^^^^^^^^^^^^^^^^^^^^^^^^^\n",
            "  File \"/usr/local/lib/python3.11/dist-packages/transformers/utils/import_utils.py\", line 1976, in _get_module\n",
            "    return importlib.import_module(\".\" + module_name, self.__name__)\n",
            "           ^^^^^^^^^^^^^^^^^^^^^^^^^^^^^^^^^^^^^^^^^^^^^^^^^^^^^^^^^\n",
            "  File \"/usr/lib/python3.11/importlib/__init__.py\", line 126, in import_module\n",
            "    return _bootstrap._gcd_import(name[level:], package, level)\n",
            "           ^^^^^^^^^^^^^^^^^^^^^^^^^^^^^^^^^^^^^^^^^^^^^^^^^^^^\n",
            "  File \"/usr/local/lib/python3.11/dist-packages/transformers/models/t5/modeling_t5.py\", line 28, in <module>\n",
            "    from ...cache_utils import Cache, DynamicCache, EncoderDecoderCache, StaticCache\n",
            "  File \"/usr/local/lib/python3.11/dist-packages/transformers/cache_utils.py\", line 11, in <module>\n",
            "    from transformers.pytorch_utils import is_torch_greater_or_equal_than_2_6\n",
            "  File \"/usr/local/lib/python3.11/dist-packages/transformers/pytorch_utils.py\", line 47, in <module>\n",
            "    from torch.distributed.tensor.parallel import ColwiseParallel, RowwiseParallel\n",
            "  File \"/usr/local/lib/python3.11/dist-packages/torch/distributed/tensor/parallel/__init__.py\", line 2, in <module>\n",
            "    from torch.distributed.tensor.parallel.api import parallelize_module\n",
            "  File \"/usr/local/lib/python3.11/dist-packages/torch/distributed/tensor/parallel/api.py\", line 9, in <module>\n",
            "    from torch.distributed.tensor.parallel._utils import _validate_tp_mesh_dim\n",
            "  File \"/usr/local/lib/python3.11/dist-packages/torch/distributed/tensor/parallel/_utils.py\", line 11, in <module>\n",
            "    from torch._dynamo.external_utils import is_compiling as is_torchdynamo_compiling\n",
            "  File \"/usr/local/lib/python3.11/dist-packages/torch/_dynamo/__init__.py\", line 3, in <module>\n",
            "    from . import convert_frame, eval_frame, resume_execution\n",
            "  File \"/usr/local/lib/python3.11/dist-packages/torch/_dynamo/convert_frame.py\", line 33, in <module>\n",
            "    from torch._dynamo.symbolic_convert import TensorifyState\n",
            "  File \"/usr/local/lib/python3.11/dist-packages/torch/_dynamo/symbolic_convert.py\", line 27, in <module>\n",
            "    from torch._dynamo.exc import TensorifyScalarRestartAnalysis\n",
            "  File \"/usr/local/lib/python3.11/dist-packages/torch/_dynamo/exc.py\", line 11, in <module>\n",
            "    from .utils import counters\n",
            "  File \"/usr/local/lib/python3.11/dist-packages/torch/_dynamo/utils.py\", line 66, in <module>\n",
            "    import torch.fx.experimental.symbolic_shapes\n",
            "  File \"/usr/local/lib/python3.11/dist-packages/torch/fx/experimental/symbolic_shapes.py\", line 74, in <module>\n",
            "    from torch.utils._sympy.functions import (\n",
            "  File \"/usr/local/lib/python3.11/dist-packages/torch/utils/_sympy/functions.py\", line 18, in <module>\n",
            "    import sympy\n",
            "  File \"/usr/local/lib/python3.11/dist-packages/sympy/__init__.py\", line 74, in <module>\n",
            "    from .polys import (Poly, PurePoly, poly_from_expr, parallel_poly_from_expr,\n",
            "  File \"/usr/local/lib/python3.11/dist-packages/sympy/polys/__init__.py\", line 79, in <module>\n",
            "    from .polyfuncs import (symmetrize, horner, interpolate,\n",
            "  File \"/usr/local/lib/python3.11/dist-packages/sympy/polys/polyfuncs.py\", line 10, in <module>\n",
            "    from sympy.polys.specialpolys import (\n",
            "  File \"/usr/local/lib/python3.11/dist-packages/sympy/polys/specialpolys.py\", line 7, in <module>\n",
            "    from sympy.ntheory import nextprime\n",
            "  File \"/usr/local/lib/python3.11/dist-packages/sympy/ntheory/__init__.py\", line 8, in <module>\n",
            "    from .factor_ import divisors, proper_divisors, factorint, multiplicity, \\\n",
            "KeyboardInterrupt\n",
            "^C\n"
          ]
        }
      ]
    }
  ]
}